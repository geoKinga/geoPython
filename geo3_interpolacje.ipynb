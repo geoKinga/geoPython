{
 "cells": [
  {
   "cell_type": "markdown",
   "id": "90152faa",
   "metadata": {},
   "source": [
    "<table>\n",
    "<thead>\n",
    "  <tr>\n",
    "    <td></td>\n",
    "    <td>\n",
    "        Kinga Węzka <br>\n",
    "        kinga.wezka@pw.edu.pl <br>\n",
    "        Warsaw University of Technology  <br>\n",
    "Faculty Geodesy and Cartography <br>\n",
    "<a ref=\"https://www.google.com/maps/place/Gmach+G%C5%82%C3%B3wny+Politechniki+Warszawskiej/@52.220656,21.0094422,19z/data=!3m1!4b1!4m5!3m4!1s0x471ecce951c85a19:0x712b0e1503c42b91!8m2!3d52.220656!4d21.0099894\"> N 52&ordm; 12' 45&quot; / E 21&ordm; 03' 51&quot;</a>\n",
    "    </td>\n",
    "    <td>\n",
    "<a rel=\"license\" href=\"https://www.pw.edu.pl\"><img alt=\"Politechnika Warszawska\" style=\"border-width:0\" src=\"https://www.pw.edu.pl/design/pw/images/znak-pw.png\" width=\"50%\" /></a>\n",
    "    </td>\n",
    "  </tr>\n",
    "</thead>\n",
    "</table>"
   ]
  },
  {
   "cell_type": "markdown",
   "id": "edabbc07",
   "metadata": {},
   "source": [
    "<div class=\"alert alert-block alert-success\">\n",
    "<b> Temat: </b> \n",
    "    Geometria obliczeniowa - interpolacje\n",
    "</div>"
   ]
  },
  {
   "cell_type": "markdown",
   "id": "ed382d75",
   "metadata": {},
   "source": [
    "1. [Interpolacja liniowa (1D)](#zad1)\n",
    "    1. [Dane](#zad1a)\n",
    "    2. [Zadanie](#zad1b)\n",
    "2. [Interpolacja dwuliniowa (2D)](#zad2)\n",
    "    1. [Zadanie interpolacja dwuliniowa](#zad2a)\n",
    "    2. [Zadanie interpolacja dwuliniowa - wyszukiwanie najbliższych punktów](#zad2b)\n",
    "3. [Porównanie interpolacji dostepnych w bibliotekach - praca domowa](#zad3)   "
   ]
  },
  {
   "cell_type": "code",
   "execution_count": 1,
   "id": "9d68c1a9",
   "metadata": {},
   "outputs": [],
   "source": [
    "from IPython.display import display, Markdown, Latex, Image \n",
    "\n",
    "# importowanie bibliotek i konfiguracj matplotlib \n",
    "import numpy as np\n",
    "from numpy.linalg import inv\n",
    "from math import pi, sin, cos, sqrt, exp\n",
    "import matplotlib.pyplot as plt\n",
    "from matplotlib.ticker import FormatStrFormatter\n",
    "from matplotlib.patches import Polygon\n",
    "import matplotlib as mpl\n",
    "mpl.rcParams['lines.linewidth'] = 1\n",
    "mpl.rcParams['lines.linestyle'] = '-.'\n",
    "mpl.rcParams['xtick.labelsize'] = 11\n",
    "mpl.rcParams['ytick.labelsize'] = 11\n",
    "mpl.rcParams['axes.titlesize'] = 11\n",
    "mpl.rcParams['axes.labelsize'] = 11\n",
    "mpl.rcParams['axes.grid'] = True\n",
    "mpl.rcParams['lines.markersize'] ** 2. # marker size in scatter\n",
    "\n",
    "# Wyświetlanie wykresów - metody magiczne\n",
    "#  do wyświetlania wykresów statyczny w komórce\n",
    "%matplotlib inline \n",
    "# do wyświetlania wykresów interaktywnych:\n",
    "#%matplotlib notebook "
   ]
  },
  {
   "cell_type": "markdown",
   "id": "c8420ce2",
   "metadata": {},
   "source": [
    "### 1: Interpolacja liniowa 1D <a name=\"zad1\"></a>\n",
    "Interpolacja liniowa – metoda przybliżenia dowolnej funkcji $f$ ciągłej w przedziale \n",
    "$[x_{0},\\,x_{1}]\\in R^{1}$, której wartości $  f(x_{i})=y_{i}\\in R^{1},\\;i=0,\\,1$\n",
    "są dane tylko w dwóch punktach $x_{i}\\in R^{1}$ za pomocą funkcji liniowej.\n",
    "\n",
    "Liniowa funkcja interpolująca $L(x)$ w przedziale $[x_{0},\\,x_{1}]$ ma postać:\n",
    "\n",
    "$$L(x)=y_{0}+{\\frac {y_{1}-y_{0}}{x_{1}-x_{0}}}(x-x_{0}).$$\n",
    "\n",
    "\n",
    "<a rel=\"license\" href=\"https://upload.wikimedia.org\"><img alt=\"Interpolacja dwuliniowa\" style=\"border-width:0\" src=\"https://upload.wikimedia.org/wikipedia/commons/thumb/d/dd/LinearInterpolation.svg/300px-LinearInterpolation.svg.png\" width=\"25%\" /></a>\n",
    "\n",
    "Interpolację liniową stosuje się powszechnie przy korzystaniu z tablic wartości funkcji, w celu obliczenia ich wartości pośrednich."
   ]
  },
  {
   "cell_type": "markdown",
   "id": "2aa7339a",
   "metadata": {},
   "source": [
    "#### 1a: Dane <a name=\"zad1a\"></a>\n",
    "Poższe dane zawierają wartości x i y dla funkcji liniowej: $f(x) = 0.5x + 3$.\n",
    "Dane zapisane są w tablicy **xy** gdzie ilość wieszy jest równa ilości obserwacji oraz  ilość kolumn wynosi 2:\n",
    "+ kolumna 1: numer epoki obserwacyjnej, podany w godzinach od 00 do 23\n",
    "+ kolumna 2: wysokość punktu w metrach\n",
    "\n",
    "Natomiast tablica **xy_gaps**, jest tablica z brakującymi obserwacjami w epoce 13 i 21."
   ]
  },
  {
   "cell_type": "code",
   "execution_count": 112,
   "id": "24df4c94",
   "metadata": {},
   "outputs": [
    {
     "data": {
      "text/plain": [
       "array([[ 0. ,  3. ],\n",
       "       [ 1. ,  3.5],\n",
       "       [ 2. ,  4. ],\n",
       "       [ 3. ,  4.5],\n",
       "       [ 4. ,  5. ],\n",
       "       [ 5. ,  5.5],\n",
       "       [ 6. ,  6. ],\n",
       "       [ 7. ,  6.5],\n",
       "       [ 8. ,  7. ],\n",
       "       [ 9. ,  7.5],\n",
       "       [10. ,  8. ],\n",
       "       [11. ,  8.5],\n",
       "       [12. ,  9. ],\n",
       "       [13. ,  nan],\n",
       "       [14. , 10. ],\n",
       "       [15. , 10.5],\n",
       "       [16. , 11. ],\n",
       "       [17. , 11.5],\n",
       "       [18. , 12. ],\n",
       "       [19. , 12.5],\n",
       "       [20. , 13. ],\n",
       "       [21. ,  nan],\n",
       "       [22. , 14. ]])"
      ]
     },
     "execution_count": 112,
     "metadata": {},
     "output_type": "execute_result"
    }
   ],
   "source": [
    "x = np.arange(0,23,1) # wartości x\n",
    "y = 0.5*x + 3         # funkcja liniowa f(x) = 0.5x + 3\n",
    "xy = np.column_stack((x,y)) \n",
    "#usunięte obserwacje z epoką 13 i 21\n",
    "xy[13,1] = np.nan\n",
    "xy[21,1] = np.nan\n",
    "xy_gaps = xy\n",
    "xy_gaps"
   ]
  },
  {
   "cell_type": "markdown",
   "id": "bfed39af",
   "metadata": {},
   "source": [
    "#### 1b: Zadanie <a name=\"zad1b\"></a>\n",
    "Korzystają z interpolacji liniowej wyznacz wartości brakujących obserwacji wysokości na epokę 13, 26.\n",
    "Napisz program, który zawiera:\n",
    "+ a) funkcję, która znajdzie dwie najbliższe obserwacje dla interpolowanej epoki (epoka poprzedzająca i następujaca),\n",
    "+ b) funkcję, która zrealizuje interpolację liniową wartości wysokości dla brakującej epoki,\n",
    "+ c) funkcję, która wykona interpolację i uzupełni tablice **xy_gaps** o wyinterpolowane wartości\n",
    "+ d) funkcję, która wykona interpolację wartości wysokości pomiędzy epoką 15 i 16 z interwałem co 15 min, na godzinę,   15:15,  15:30, 15:45. Funkcja powinna zwracać tablice xy uzupełnioną o nowe wartości\n",
    "+ e) przygotuj wykres, który przedstawi: \n",
    "    + dane xy_gaps\n",
    "    + najbliższe wartości\n",
    "    + wyinterpolowane wartości."
   ]
  },
  {
   "cell_type": "code",
   "execution_count": 113,
   "id": "e133e7af",
   "metadata": {},
   "outputs": [],
   "source": [
    "# a) funkcja znajdująca najbliższe wartości\n",
    "def find_nearest(array, value = 13):\n",
    "    index = np.argmin(np.abs(np.array(xy_gaps[:,0]) - value)) # np.argmin - znajduje indeks z minimalna wartością\n",
    "    xy0 = xy_gaps[index-1,:]\n",
    "    xy1 = xy_gaps[index+1,:]     \n",
    "    return xy0, xy1\n",
    "            \n",
    "xy_prev, xy_next = find_nearest(xy_gaps, value = 13)"
   ]
  },
  {
   "cell_type": "code",
   "execution_count": 109,
   "id": "dd636716",
   "metadata": {},
   "outputs": [
    {
     "data": {
      "text/plain": [
       "9.5"
      ]
     },
     "execution_count": 109,
     "metadata": {},
     "output_type": "execute_result"
    }
   ],
   "source": [
    "# b) funkcja interpolacji liniowej:\n",
    "def linear_interpol(xy0, xy1, x=13):\n",
    "    \"\"\"\n",
    "    INPUT:\n",
    "        xy0 - array (1x2) - poprzednia wartość x, y\n",
    "        xy1 - array (1x2) - następna wartość x, y\n",
    "        x  - wartość x dla, której interpolowana będzie wartość y\n",
    "    OUTPUT:\n",
    "        y_interp\n",
    "    \"\"\"\n",
    "    y_interp = xy0[1] + ( (xy1[1] - xy0[1])/(xy1[0] - xy0[0]) ) * (x - xy0[0]) \n",
    "    return y_interp\n",
    "linear_interpol(xy_prev, xy_next, x=13)"
   ]
  },
  {
   "cell_type": "code",
   "execution_count": 317,
   "id": "fc27dca2",
   "metadata": {},
   "outputs": [
    {
     "name": "stdout",
     "output_type": "stream",
     "text": [
      "13 9.5\n",
      "21 13.5\n",
      "[[13.   9.5]\n",
      " [21.  13.5]]\n"
     ]
    },
    {
     "data": {
      "text/plain": [
       "array([[13. ,  9.5],\n",
       "       [21. , 13.5]])"
      ]
     },
     "execution_count": 317,
     "metadata": {},
     "output_type": "execute_result"
    }
   ],
   "source": [
    "# c) interpolacja wartości dla brakujacych epok\n",
    "def fill_gaps(xy_gaps, *x_gaps):\n",
    "    gaps = []\n",
    "    for xg in x_gaps:\n",
    "        xy0, xy1 = find_nearest(xy_gaps, value=xg)\n",
    "        y_interp =  linear_interpol(xy_prev, xy_next, x=xg)\n",
    "        xy_gaps[xg, 1] = y_interp # uzupełnienie tablicy o interpolowane watości\n",
    "        print(xg, y_interp)\n",
    "        gaps.append([xg, y_interp])\n",
    "    print(np.array(gaps))\n",
    "    return xy_gaps, np.array(gaps)\n",
    "\n",
    "x_gaps = [13, 21]\n",
    "filled_xy, gaps = fill_gaps(xy_gaps, *x_gaps)\n",
    "gaps"
   ]
  },
  {
   "cell_type": "code",
   "execution_count": 313,
   "id": "93d66519",
   "metadata": {},
   "outputs": [
    {
     "name": "stdout",
     "output_type": "stream",
     "text": [
      "[[15.25  10.625]\n",
      " [15.5   10.75 ]\n",
      " [15.75  10.875]]\n"
     ]
    }
   ],
   "source": [
    "# d) interpolacja wartości co 15 minut pomiedzy epoką 15 i 16\n",
    "e0 = 15\n",
    "e1 = 16\n",
    "exteded_xy = np.arange(e0, e1, 0.25)  #\n",
    "\n",
    "def extend_interp(filled_xy, *exteded_xy):\n",
    "    xy_new = []\n",
    "    for xg in exteded_xy:\n",
    "        xy0, xy1 = find_nearest(filled_xy, value=xg)\n",
    "        y_interp =  linear_interpol(xy_prev, xy_next, x=xg)\n",
    "        xy_new.append([xg, y_interp])\n",
    "    return np.array(xy_new)[1:,:] # aby nie powtórzyć wiersza dla 15\n",
    "\n",
    "ext_xy = extend_interp(filled_xy, *exteded_xy)\n",
    "print(ext_xy)\n",
    "full = np.insert(filled_xy, 16, ext_xy, axis=0)"
   ]
  },
  {
   "cell_type": "code",
   "execution_count": 322,
   "id": "03292aed",
   "metadata": {},
   "outputs": [
    {
     "data": {
      "image/png": "[encoded data removed]",
      "text/plain": [
       "<Figure size 510.236x226.772 with 1 Axes>"
      ]
     },
     "metadata": {
      "needs_background": "light"
     },
     "output_type": "display_data"
    }
   ],
   "source": [
    "%matplotlib inline\n",
    "fig,  ax =  plt.subplots(nrows=1, ncols=1, figsize=(18/2.54, 8/2.54))\n",
    "\n",
    "# wykres punktów funkcji f(x)\n",
    "ax.scatter(xy_gaps[:,0],xy_gaps[:,1], marker = 'o', color = 'blue', label ='dane') \n",
    "ax.scatter(gaps[:,0], gaps[:,1], marker = 'o', color = 'red', label ='interpolowane') \n",
    "ax.scatter(ext_xy[:,0], ext_xy[:,1], marker = '.', color = 'red', label ='interpolowane')\n",
    "\n",
    "ax.yaxis.set_major_formatter(FormatStrFormatter('%.0f')) # po zaimportowaniu:from matplotlib.ticker import FormatStrFormatter\n",
    "ax.xaxis.set_major_formatter(FormatStrFormatter('%.0f')) # po zaimportowaniu:from matplotlib.ticker import FormatStrFormatter\n",
    "\n",
    "ax.legend()\n",
    "plt.show()"
   ]
  },
  {
   "cell_type": "markdown",
   "id": "4371e691",
   "metadata": {},
   "source": [
    "### 2. Interpolacja dwuliniowa <a name=\"zad2\"></a>\n",
    "Interpolacja dwuliniowa (ang. *bilinear interpolation*) – metoda rozszerzająca interpolację liniową na interpolację funkcji dwóch zmiennych. Intuicyjnie jest złożeniem dwóch interpolacji liniowych.\n",
    "\n",
    "W celu przeprowadzenia interpolacji dwuliniowej przeprowadza się dwie interpolacje liniowe dla jednego kierunku (np. wzdłuż osi OX w układzie współrzędnych kartezjańskich, a następnie dla tak uzyskanych wartości przeprowadza się interpolację liniową dla drugiego kierunku (w tym przypadku osi OY.\n",
    "\n",
    "Najpierw przeprowadzana jest interpolacja liniowa wzdłuż osi **OX** na podstawie wzoru:\n",
    "\n",
    "$$\n",
    "f(R_{1})\\approx {\\frac {x_{2}-x}{x_{2}-x_{1}}}f(Q_{11})+{\\frac {x-x_{1}}{x_{2}-x_{1}}}f(Q_{21})\\quad {\\mbox{gdzie}}\\quad R_{1}=(x,y_{1})$$\n",
    "\n",
    "$$ f(R_{2})\\approx {\\frac {x_{2}-x}{x_{2}-x_{1}}}f(Q_{12})+{\\frac {x-x_{1}}{x_{2}-x_{1}}}f(Q_{22})\\quad {\\mbox{gdzie}}\\quad R_{2}=(x,y_{2})$$\n",
    "\n",
    "Następnie przeprowadzana jest interpolacja wzdłuż osi OY:\n",
    "\n",
    "$$ f(P)\\approx {\\frac {y_{2}-y}{y_{2}-y_{1}}}f(R_{1})+{\\frac {y-y_{1}}{y_{2}-y_{1}}}f(R_{2})$$\n",
    "\n",
    "\n",
    "<a rel=\"license\" href=\"https://upload.wikimedia.org\"><img alt=\"Interpolacja dwuliniowa\" style=\"border-width:0\" src=\"https://upload.wikimedia.org/wikipedia/commons/e/e7/Bilinear_interpolation.png\" width=\"25%\" /></a>"
   ]
  },
  {
   "cell_type": "markdown",
   "id": "009ea215",
   "metadata": {},
   "source": [
    "#### 2a Zadanie interpolacja dwuliniowa   <a name=\"zad2a\"></a>\n",
    "\n",
    "Napisz funkcję interpolacji biliniowej, która jako wartości argumentów przyjmuje:\n",
    "- x, y - współrzędne na które wartość ma zostać wyinterpolowana\n",
    "- nearest_points  - listę, zawierajaca listy 4 najblizszych punktów potrzebnych do interpolacji\n",
    "\n",
    "Funkcja powinna zwracać awrtośc punktu wyinterpolowanego na współrzedne (x, y).\n",
    "\n",
    "Funkcja powinna również sprawdzać, nastepujące warunki: \n",
    "- czy 4 najbliższe punkty tworzą prostokąt,\n",
    "- czy punkt na który nalezy wyinterpolowac wartość jest wewnątrz prostokąta\n",
    "\n",
    "Wyniki danych punktów oraz punktu interpolowanego przedstaw na wykresie."
   ]
  },
  {
   "cell_type": "code",
   "execution_count": 1,
   "id": "4393c9e8",
   "metadata": {},
   "outputs": [
    {
     "name": "stdout",
     "output_type": "stream",
     "text": [
      "[[0, 1, 12], [0, 3, -4], [4, 1, 0], [4, 3, 8]]\n"
     ]
    }
   ],
   "source": [
    "#testowe dane\n",
    "pkt = [[0, 1, 12],\n",
    "       [4, 1, 0],\n",
    "       [0, 3, -4],\n",
    "       [4, 3, 8] ]\n",
    "print(sorted(pkt))\n",
    "\n",
    "def bi_nterpolation(x, y, nearest_points):\n",
    "    pts = sorted(nearest_points)      \n",
    "    (x1, y1, q11), (_x1, y2, q12), (x2, _y1, q21), (_x2, _y2, q22) = pts\n",
    "    \n",
    "    if x1 != _x1 or x2 != _x2 or y1 != _y1 or y2 != _y2:\n",
    "        print('Punkty nie tworzą prostokata')\n",
    "    if not x1 <= x <= x2 or not y1 <= y <= y2:\n",
    "        print('Interpolowany punkt (x, y) nie jest wewnątrz prostokąta')\n",
    "    p_interp = (q11 * (x2 - x) * (y2 - y) +  q21 * (x - x1) * (y2 - y) +\n",
    "         q12 * (x2 - x) * (y - y1) + q22 * (x - x1) * (y - y1)) / ((x2 - x1) * (y2 - y1))\n",
    "    return p_interp\n",
    "\n",
    "\n",
    "x, y = 2, 2\n",
    "p = bi_nterpolation(2,2, pkt)  "
   ]
  },
  {
   "cell_type": "code",
   "execution_count": 256,
   "id": "3f229551",
   "metadata": {},
   "outputs": [
    {
     "data": {
      "image/png": "[encoded data removed]",
      "text/plain": [
       "<Figure size 510.236x340.157 with 2 Axes>"
      ]
     },
     "metadata": {
      "needs_background": "light"
     },
     "output_type": "display_data"
    }
   ],
   "source": [
    "fig,  ax =  plt.subplots(nrows=1, ncols=1, figsize=(18/2.54, 12/2.54))\n",
    "plt.scatter(x, y, c=p, vmin=-4, vmax=12, s=10**2, cmap='plasma')\n",
    "sc = plt.scatter(np.array(points)[:,0], np.array(points)[:,1], c=np.array(points)[:,2], vmin=-4, vmax=12, s=10**2, cmap='plasma')\n",
    "plt.colorbar(sc)\n",
    "plt.show()"
   ]
  },
  {
   "cell_type": "markdown",
   "id": "42703e7d",
   "metadata": {},
   "source": [
    "#### 2b Zadanie interpolacja dwuliniowa  - wyszukiwanie najbliższych punktów  <a name=\"zad2a\"></a>\n",
    "Dla danych grid (wygenerowanych poniżej):\n",
    "\n",
    "\n",
    "Wykonaj interpolację dwuliniową wartości z dla punktów o współrzędnych:\n",
    "[-2, -2]\n",
    "[-2, 2]\n",
    "[2, 2]\n",
    "[2, - 2]"
   ]
  },
  {
   "cell_type": "code",
   "execution_count": 260,
   "id": "50c3aae0",
   "metadata": {},
   "outputs": [],
   "source": [
    "x = np.linspace(-5, 5, 6)\n",
    "y = np.linspace(-5, 5, 6)\n",
    "# fill coorindate arrays\n",
    "xx, yy = np.meshgrid(x, y) # grid xy \n",
    "zz = np.sqrt(xx**2 + yy**2)# z \n",
    "zzz = ellipse = xx * 2 + 4 * yy**2"
   ]
  },
  {
   "cell_type": "code",
   "execution_count": 250,
   "id": "8893f3a8",
   "metadata": {},
   "outputs": [
    {
     "data": {
      "image/png": "[encoded data removed]",
      "text/plain": [
       "<Figure size 510.236x340.157 with 2 Axes>"
      ]
     },
     "metadata": {
      "needs_background": "light"
     },
     "output_type": "display_data"
    }
   ],
   "source": [
    "#color map: https://matplotlib.org/stable/gallery/color/colormap_reference.html\n",
    "fig,  ax =  plt.subplots(nrows=1, ncols=1, figsize=(18/2.54, 12/2.54))\n",
    "sc = plt.scatter(xx ,yy, c=zz, vmin=0, vmax=12, s=35, cmap='plasma')\n",
    "plt.colorbar(sc)\n",
    "plt.show()"
   ]
  },
  {
   "cell_type": "code",
   "execution_count": 273,
   "id": "92c2d0cc",
   "metadata": {},
   "outputs": [
    {
     "data": {
      "image/png": "[encoded data removed]",
      "text/plain": [
       "<Figure size 510.236x340.157 with 2 Axes>"
      ]
     },
     "metadata": {
      "needs_background": "light"
     },
     "output_type": "display_data"
    }
   ],
   "source": [
    "fig,  ax =  plt.subplots(nrows=1, ncols=1, figsize=(18/2.54, 12/2.54))\n",
    "# wykres punktów funkcji f(x)\n",
    "sc = plt.scatter(x, y,  label ='najbliższe xy0') \n",
    "h = plt.contourf(x, y, zz, cmap = 'jet')\n",
    "plt.colorbar(h)\n",
    "plt.show()"
   ]
  },
  {
   "cell_type": "code",
   "execution_count": 293,
   "id": "59445235",
   "metadata": {},
   "outputs": [
    {
     "data": {
      "image/png": "[encoded data removed]",
      "text/plain": [
       "<Figure size 793.701x453.543 with 4 Axes>"
      ]
     },
     "metadata": {
      "needs_background": "light"
     },
     "output_type": "display_data"
    }
   ],
   "source": [
    "fig =  plt.figure(figsize=(28/2.54, 16/2.54))\n",
    "#\n",
    "ax1 = fig.add_subplot(221) \n",
    "ax1.scatter(x, y, marker = 'o', color = 'red', label ='zz') \n",
    "a1 = ax1.contourf(x, y, zz)\n",
    "plt.colorbar(a1)\n",
    "\n",
    "ax2 = fig.add_subplot(222) \n",
    "ax2.scatter(x, y, marker = 'o', color = 'red', label ='zzz') \n",
    "a2 = ax2.contourf(x, y, zzz)\n",
    "plt.colorbar(a2)\n",
    " \n",
    "plt.show()"
   ]
  },
  {
   "cell_type": "code",
   "execution_count": null,
   "id": "712916be",
   "metadata": {},
   "outputs": [],
   "source": []
  },
  {
   "cell_type": "markdown",
   "id": "9cf76658",
   "metadata": {},
   "source": [
    "### 3 porównanie interpolacji dostepnych w bibliotekach - praca domowa  <a name=\"zad3\"></a>\n",
    "Dla danych z zadania 2b wykonaj interpolację za pomocą 3 wybranych funkcji dostępnych w bibliotece: scipy.interpolate\n",
    "Wyniki przedstaw na rysunku."
   ]
  },
  {
   "cell_type": "code",
   "execution_count": null,
   "id": "85ead674",
   "metadata": {},
   "outputs": [],
   "source": []
  },
  {
   "cell_type": "code",
   "execution_count": null,
   "id": "b757678e",
   "metadata": {},
   "outputs": [],
   "source": []
  }
 ],
 "metadata": {
  "kernelspec": {
   "display_name": "Python 3",
   "language": "python",
   "name": "python3"
  },
  "language_info": {
   "codemirror_mode": {
    "name": "ipython",
    "version": 3
   },
   "file_extension": ".py",
   "mimetype": "text/x-python",
   "name": "python",
   "nbconvert_exporter": "python",
   "pygments_lexer": "ipython3",
   "version": "3.8.8"
  }
 },
 "nbformat": 4,
 "nbformat_minor": 5
}
