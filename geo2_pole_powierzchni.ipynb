{
 "cells": [
  {
   "cell_type": "markdown",
   "id": "90152faa",
   "metadata": {},
   "source": [
    "<table>\n",
    "<thead>\n",
    "  <tr>\n",
    "    <td></td>\n",
    "    <td>\n",
    "        Kinga Węzka <br>\n",
    "        kinga.wezka@pw.edu.pl <br>\n",
    "        Warsaw University of Technology  <br>\n",
    "Faculty Geodesy and Cartography <br>\n",
    "<a ref=\"https://www.google.com/maps/place/Gmach+G%C5%82%C3%B3wny+Politechniki+Warszawskiej/@52.220656,21.0094422,19z/data=!3m1!4b1!4m5!3m4!1s0x471ecce951c85a19:0x712b0e1503c42b91!8m2!3d52.220656!4d21.0099894\"> N 52&ordm; 12' 45&quot; / E 21&ordm; 03' 51&quot;</a>\n",
    "    </td>\n",
    "    <td>\n",
    "<a rel=\"license\" href=\"https://www.pw.edu.pl\"><img alt=\"Politechnika Warszawska\" style=\"border-width:0\" src=\"https://www.pw.edu.pl/design/pw/images/znak-pw.png\" width=\"50%\" /></a>\n",
    "    </td>\n",
    "  </tr>\n",
    "</thead>\n",
    "</table>"
   ]
  },
  {
   "cell_type": "markdown",
   "id": "edabbc07",
   "metadata": {},
   "source": [
    "<div class=\"alert alert-block alert-success\">\n",
    "<b> Temat: </b> \n",
    "    Geometria obliczeniowa - pole powierzchni wieloboku (poligonu)\n",
    "</div>"
   ]
  },
  {
   "cell_type": "code",
   "execution_count": null,
   "id": "6a1ed87d",
   "metadata": {},
   "outputs": [],
   "source": [
    "1. [Interpolacja liniowa](#zad1)\n",
    "    1. [Zadanie](#zad1a)\n",
    "    2. [Dane](#zad1b)\n",
    "2. [Interpolacja dwuliniowa](#zad2)\n",
    "    1. [Zadanie](#zad2a)\n",
    "    2. [Dane](#zad2b)"
   ]
  },
  {
   "cell_type": "markdown",
   "id": "ed382d75",
   "metadata": {},
   "source": [
    "<div class=\"alert alert-block alert-info\">\n",
    "<b>Temat:</b> \n",
    "    Wzór na obliczanie pola powierzchni wieloboku (poligonu) - metoda Gausa\n",
    "    \n",
    "    Metoda Gausa jest metodą analityczną do wyznaczenia pola wieloboku potrzebujemy:\n",
    "    + 1) współrzędnych kartezjańskich wierzchołków wieloboku \n",
    "    + 2) współrzędnych biegunowych (kąt/kierunek, odległość)\n",
    "</div>\n"
   ]
  },
  {
   "cell_type": "code",
   "execution_count": null,
   "id": "6fcba504",
   "metadata": {},
   "outputs": [],
   "source": [
    "# importowanie bibliotek i konfiguracj matplotlib \n",
    "import numpy as np\n",
    "from numpy.linalg import inv\n",
    "from math import pi, sin, cos, sqrt, exp\n",
    "import matplotlib.pyplot as plt\n",
    "from matplotlib.ticker import FormatStrFormatter\n",
    "from matplotlib.patches import Polygon\n",
    "import matplotlib as mpl\n",
    "mpl.rcParams['lines.linewidth'] = 1\n",
    "mpl.rcParams['lines.linestyle'] = '-.'\n",
    "mpl.rcParams['xtick.labelsize'] = 11\n",
    "mpl.rcParams['ytick.labelsize'] = 11\n",
    "mpl.rcParams['axes.titlesize'] = 11\n",
    "mpl.rcParams['axes.labelsize'] = 11\n",
    "mpl.rcParams['axes.grid'] = True\n",
    "mpl.rcParams['lines.markersize'] ** 2. # marker size in scatter\n",
    "\n",
    "# Wyświetlanie wykresów\n",
    "%matplotlib inline # metoda magiczna do wyświetlania wykresów statyczny w komórce\n",
    "#%matplotlib notebook # metoda magiczna do wyświetlania wykresów interaktywnych,"
   ]
  },
  {
   "cell_type": "markdown",
   "id": "c8420ce2",
   "metadata": {},
   "source": [
    "### 1)  Pole powierzchni na podstawie współrzędnych kartezjańskich\n",
    "\n",
    "**Algorytm powierzchni Gaussa** (lub inaczej algorytm sznurowadła lub metoda sznurowadła) to algorytm matematyczny do wyznaczania powierzchni prostego wielokąta, którego wierzchołki są opisane przez kartezjańskie współrzędne w płaszczyźnie tego wielokata. Nazywa się to wzorem na sznurowadła ze względu na stałe mnożenie krzyżowe dla współrzędnych tworzących wielokąt, podobnie jak wiązanie sznurowadeł.\n",
    "https://en.wikipedia.org/wiki/Shoelace_formula\n",
    "\n",
    "\n",
    "Jak obliczyć pole powierzchni prostego (nie przecinającego się) wieloboku (**poligonu**), o **$n$** bokach o znanych współrzędnych kartezjańskich w płaszczyźnie dla wszystkich jego wierzchołków (ang. *vertices*)?\n",
    "\n",
    "Mając dany wielokąt **z dodatnio zorientowaną (w kierunku zgodnym z ruchem wskazówek zegara) sekwencją punktów** $P_{i}=(x_{i},y_{i}),i=1,\\dots ,n$ w kartezjańskim układzie współrzędnych - dla uproszczenia poniższych formuł wygodnie jest to zapisać jako: $P_{0}=P_{n}, P_{n+1}=P_{1}$\n",
    "\n",
    "Główną koncepcją metody jest podzielenie głównego wielokąta na **$n$** trapezów i krzyżowe pomnożenie odpowiednich współrzędnych w celu znalezienia obszaru otaczającego wielokąt (trapezoidy zielone) i odjęcie od niego otaczających trapezów (czerwony), aby znaleźć obszar wielokąta wewnątrz. \n",
    "\n",
    "\n",
    "<a rel=\"license\" href=\"https://www.thecivilengineer.org/\"><img alt=\"Gauss's Area Calculation Formula\" style=\"border-width:0\" src=\"https://www.thecivilengineer.org/images/stories/gauss_area_anim.gif\" width=\"50%\" /></a>\n",
    "\n",
    "**Prametry znane**: Współrzędne kartezjańskie wszystkich wierzchołków $(x1, y1), (x2, y2), ... (xn, yn)$.\n",
    "\n",
    "\n",
    "\n",
    "\n",
    "\n",
    " 1. Odejmij otaczające trapezy (czerwony) od otaczających trapezów (zielony).\n",
    " \n",
    "Formuła trapezu podsumowuje sekwencję obszarów zorientowanych $$ A_{i}={\\tfrac {1}{2}}(y_{i}+y_{i+1})(x_{i}-x_{i+1})$$ trapezów z $$P_{i}P_{i+1}$$ jako jedną z czterech krawędzi (patrz poniżej):\n",
    "\n",
    "$$\\begin{aligned}A&={\\frac {1}{2}}\\sum _{i=1}^{n}(y_{i}+y_{i+1})(x_{i}-x_{i+1})\\\\&={\\frac {1}{2}}{\\Big (}(y_{1}+y_{2})(x_{1}-x_{2})+\\cdots +(y_{n}+y_{\\color {red}1})(x_{n}-x_{\\color {red}1}){\\Big )}\\end{aligned}$$\n",
    "\n",
    "$$\\begin{aligned}A&={\\frac {1}{2}}\\sum _{i=1}^{n}(y_{i}+y_{i+1})(x_{i}-x_{i+1})\\\\&={\\frac {1}{2}}{\\Big (}(y_{1}+y_{2})(x_{1}-x_{2})+\\cdots +(y_{n}+y_{\\color {red}1})(x_{n}-x_{\\color {red}1}){\\Big )}\\end{aligned}$$\n",
    "\n",
    "\n",
    " 2. Pole Powierzchni wieloboku na podstawie wzorów Gaussa obliczamy (z obu wzorów wynik powienin być taki sam, więc drugi wzór może stanowić kontrolę)\n",
    "\n",
    "$$-2A = \\sum_{i=1}^{n} (x_{i+1}  - x_{i-1}) \\cdot y_i $$\n",
    "$$2A = \\sum_{i=1}^{n} (y_{i+1}  - y_{i-1}) \\cdot x_i $$\n",
    "\n",
    "gdzie: \n",
    "+ A - pole powierzchni poligonu;\n",
    "+ n - liczba wierzchołków polygonu,\n",
    "+ xi, yi, - kartezjańskie współrzędnymi wierzchołków wielokąta\n",
    "\n",
    "Jeśli wierzchołki są numerowane zgodnie z ruchem wskazówek zegara, wyznaczniki powyższych wyrażeń są dodatnie, natomiast jeśli są numerowane przeciwnie do ruchu wskazówek zegara, są ujemne, w takim przypadku należy wziąć pod uwagę wartości bezwzględne.\n",
    "\n",
    "Dodatkową kontrolą jest sprawdzenie, czy:\n",
    "$$\\sum_{i=1}^{n} (x_{i+1}  - x_{i-1}) = 0 $$\n",
    "$$\\sum_{i=1}^{n} (x_{i+1}  - x_{i-1}) = 0 $$"
   ]
  },
  {
   "cell_type": "code",
   "execution_count": 2,
   "id": "9d68c1a9",
   "metadata": {},
   "outputs": [
    {
     "data": {
      "text/plain": [
       "36.0"
      ]
     },
     "execution_count": 2,
     "metadata": {},
     "output_type": "execute_result"
    }
   ],
   "source": []
  },
  {
   "cell_type": "markdown",
   "id": "b225072b",
   "metadata": {},
   "source": [
    "**Dane** współrzędne wierzchołków wielokoąta:"
   ]
  },
  {
   "cell_type": "code",
   "execution_count": 3,
   "id": "45fcd989",
   "metadata": {},
   "outputs": [],
   "source": [
    "pts = np.array([[2,2], [6,6], [3,5]])\n",
    "pts1 = np.array([[2,2], [2,6], [5,6], [5,2]])\n",
    "pts2 = np.array(([[4, 0], [2, 4], [-2, 4], [-4, 0], [-2, -4], [2, -4]])) # pole 48\n",
    "pts3 = np.array(([[0, 0], [2, 4], [-2, 4], [-4, 0], [-2, -4], [2, -4]])) # pole 48\n",
    "pts4 = np.array(([[1, 6], [3, 1], [7, 2], [4, 4], [8,5]])) # pole 16.5"
   ]
  },
  {
   "cell_type": "code",
   "execution_count": 7,
   "id": "2fa1597b",
   "metadata": {},
   "outputs": [
    {
     "data": {
      "image/png": "[encoded data removed]",
      "text/plain": [
       "<Figure size 340.157x226.772 with 1 Axes>"
      ]
     },
     "metadata": {
      "needs_background": "light"
     },
     "output_type": "display_data"
    }
   ],
   "source": [
    "# convert cm > cal: 1cal = 2.54 cm \n",
    "xx = 12/2.54; yy = 8/2.54\n",
    "\n",
    "fig, ax =  plt.subplots(nrows=1, ncols=1, figsize=(xx, yy))\n",
    "\n",
    "i =1\n",
    "for xy in pts:\n",
    "    ax.scatter(xy[0], xy[1],  marker = 'o', color = 'red')\n",
    "    ax.text(xy[0]+0.3, xy[1], str(i))\n",
    "    i+=1\n",
    "    \n",
    "p = Polygon(pts, closed=True)\n",
    "ax = plt.gca()\n",
    "ax.add_patch(p)\n",
    "#ax.set_xlim(-5,5)\n",
    "#ax.set_ylim(-5,5)\n",
    "plt.show()\n",
    "fig.savefig('poligon.png', format='png', pad_inches=0.01, dpi=72)"
   ]
  },
  {
   "cell_type": "code",
   "execution_count": 19,
   "id": "88eac898",
   "metadata": {},
   "outputs": [
    {
     "data": {
      "text/plain": [
       "16.5"
      ]
     },
     "execution_count": 19,
     "metadata": {},
     "output_type": "execute_result"
    }
   ],
   "source": [
    "def polygon_area(poly):\n",
    "    \"\"\"\n",
    "    Return the area of any polygon\n",
    "    \"\"\"\n",
    "    pa = 0\n",
    "    for i in range(len(poly)):\n",
    "        if i == len(poly)-1:\n",
    "            pa += (poly[i][0] * poly[0][1]) - (poly[i][1] * poly[0][0])\n",
    "        else: \n",
    "            pa += (poly[i][0] * poly[i+1][1]) - (poly[i][1] * poly[i+1][0])\n",
    "    return pa/2\n",
    "\n",
    "polygon_area(list(pts))"
   ]
  },
  {
   "cell_type": "code",
   "execution_count": 108,
   "id": "32fcab00",
   "metadata": {},
   "outputs": [
    {
     "data": {
      "text/plain": [
       "16.5"
      ]
     },
     "execution_count": 108,
     "metadata": {},
     "output_type": "execute_result"
    }
   ],
   "source": [
    "def polygon_area(poly):\n",
    "    \"\"\"\n",
    "    Return the area of any polygon\n",
    "    \"\"\"\n",
    "    pa = 0\n",
    "    for i in range(len(poly)):\n",
    "        if i == len(poly)-1:\n",
    "            pa += (poly[i][0] + poly[0][0]) * (poly[i][1] - poly[0][1])\n",
    "        else: \n",
    "            pa += (poly[i][0] + poly[i+1][0]) * (poly[i][1] - poly[i+1][1])\n",
    "    return -pa/2\n",
    "\n",
    "polygon_area(list(pts))"
   ]
  },
  {
   "cell_type": "markdown",
   "id": "96902433",
   "metadata": {},
   "source": [
    "### 1)  Pole powierzchni na podstawie współrzednych biegunowych\n",
    "\n",
    "Pole wieloboku można wyznaczyć na podstawie współrzdnych biegunowych wierzchołków danego wieloboku. Znane współrzędne biegunowe $r, \\alpha$ reprezentują miary liniow (odległość) kątowe (kierunek) pomierzone tachimetrem . Do wyznaczenia pola powierzchni wzorami Gaussa musimy znać współrzędne punktów załamania konturu wieloboku.\n",
    "\n",
    "$$2P = \\sum_{i=1}^{n} r_{i}  \\cdot r_{i+1} \\cdot \\sin (\\alpha_{i+1} - \\alpha_{i}) $$\n"
   ]
  },
  {
   "cell_type": "markdown",
   "id": "18db1b91",
   "metadata": {},
   "source": [
    "<img src=\"geo_geometria_obliczeniowa_gauss.png\" alt=\"Drawing\" style=\"width: 300px;\"/>"
   ]
  },
  {
   "cell_type": "markdown",
   "id": "a31496f6",
   "metadata": {},
   "source": [
    "#### Przykład numeryczny:\n",
    "\n",
    "\n",
    "| Nr. pkt. | $$\\alpha$$ |  $r$| $$\\alpha_{k+1} - \\alpha_{k}$$ | $$r, r_{k+1}$$ | $$sin(\\alpha_{k+1} - \\alpha_{k})$$ |\n",
    "|----------|---------:|------:|-----------------------------|------------|----------------------------------|\n",
    "| 1        | 41s11m   | 106.3 | 10s56m                      | 12118.20   | 0.18967                          |\n",
    "| 2        | 52s07m   | 114.0 | 06s55m                      | 13292.40   | 0.12043                          |\n",
    "| 3        | 59s02m   | 116.6 | 04s24m                      | 10424.04   | 0.07672                          |\n",
    "| 4        | 63s26m   | 89.4  | -18s26m                     | 7590.06    | -0.31620                         |\n",
    "| 5        | 45s00m   | 84.9  | -03s49m                     | 9024.87    | -0.06656                         |\n",
    "| 1        |          |       | suma = 0                    |            |                                  |\n",
    "\n",
    "$2P = 1698.32$\n",
    "\n",
    "$ P= 849.16$ m$^2$"
   ]
  },
  {
   "cell_type": "code",
   "execution_count": 15,
   "id": "873c627c",
   "metadata": {},
   "outputs": [
    {
     "name": "stdout",
     "output_type": "stream",
     "text": [
      "* 0 [41.18333333333333, 106.3]\n",
      "* 1 [52.11666666666667, 114.0]\n",
      "* 2 [59.03333333333333, 116.6]\n",
      "* 3 [63.43333333333333, 89.4]\n",
      "4 [45.0, 84.9]\n",
      "Pole = 849.08\n"
     ]
    }
   ],
   "source": [
    "from math import radians, sin\n",
    "\n",
    "def st(s, m):\n",
    "    return s + m/60.\n",
    "    \n",
    "wsp = [[st(41, 11), 106.3], \n",
    "       [st(52, 7), 114.0],  \n",
    "       [st(59, 2), 116.6], \n",
    "       [st(63,26), 89.4], \n",
    "       [st(45, 0), 84.9]]\n",
    "\n",
    "\n",
    "suma = 0\n",
    "for i in range(0, len(wsp)):\n",
    "    if i == len(wsp)-1: #ostatni\n",
    "        print(i, wsp[i])\n",
    "        suma += ((wsp[i][1] * wsp[0][1]) * (sin(radians(wsp[0][0] - wsp[i][0]))) )\n",
    "    else: \n",
    "        print(\"*\", i, wsp[i])\n",
    "        suma += ((wsp[i][1] * wsp[i+1][1]) * (sin(radians(wsp[i+1][0] - wsp[i][0]))) )\n",
    "\n",
    "p = suma/2\n",
    "print(f\"Pole = {p:.2f}\")"
   ]
  }
 ],
 "metadata": {
  "kernelspec": {
   "display_name": "Python 3",
   "language": "python",
   "name": "python3"
  },
  "language_info": {
   "codemirror_mode": {
    "name": "ipython",
    "version": 3
   },
   "file_extension": ".py",
   "mimetype": "text/x-python",
   "name": "python",
   "nbconvert_exporter": "python",
   "pygments_lexer": "ipython3",
   "version": "3.8.8"
  }
 },
 "nbformat": 4,
 "nbformat_minor": 5
}
