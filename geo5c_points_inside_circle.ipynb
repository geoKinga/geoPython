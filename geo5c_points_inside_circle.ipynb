{
 "cells": [
  {
   "cell_type": "markdown",
   "id": "16384e22",
   "metadata": {},
   "source": [
    "<table>\n",
    "<thead>\n",
    "  <tr>\n",
    "    <td></td>\n",
    "    <td>\n",
    "        Kinga Węzka <br>\n",
    "        kinga.wezka@pw.edu.pl <br>\n",
    "        Warsaw University of Technology  <br>\n",
    "Faculty Geodesy and Cartography <br>\n",
    "<a ref=\"https://www.google.com/maps/place/Gmach+G%C5%82%C3%B3wny+Politechniki+Warszawskiej/@52.220656,21.0094422,19z/data=!3m1!4b1!4m5!3m4!1s0x471ecce951c85a19:0x712b0e1503c42b91!8m2!3d52.220656!4d21.0099894\"> N 52&ordm; 12' 45&quot; / E 21&ordm; 03' 51&quot;</a>\n",
    "    </td>\n",
    "    <td>\n",
    "<a rel=\"license\" href=\"https://www.pw.edu.pl\"><img alt=\"Politechnika Warszawska\" style=\"border-width:0\" src=\"https://www.pw.edu.pl/design/pw/images/znak-pw.png\" width=\"50%\" /></a>\n",
    "    </td>\n",
    "  </tr>\n",
    "</thead>\n",
    "</table>"
   ]
  },
  {
   "cell_type": "markdown",
   "id": "0d686c9b",
   "metadata": {},
   "source": [
    "<div class=\"alert alert-block alert-success\">\n",
    "<b> Temat: </b> \n",
    "    Znajdowanie współrzędnych punktów płaskich wewnątrz figury geometrycznej (okrąg)\n",
    "</div>"
   ]
  },
  {
   "cell_type": "markdown",
   "id": "cec1f4cb",
   "metadata": {},
   "source": [
    "**Zadanie na kolokwium z Informatyki GIK PW sem. 4 (2021/2022) - punktacja:**\n",
    "\n",
    " | Zadanie | Zad. 01 | Zad. 02 | Zad. 03 | Zad. 04 | Suma|\n",
    " |---------|:-------:|:-------:|:-------:|:-------:|----:|\n",
    " | Punkty  |    2    |    4    |    4    |   4     |  14 |"
   ]
  },
  {
   "cell_type": "markdown",
   "id": "5c3e1635",
   "metadata": {},
   "source": [
    "### Dla  danych współrzędnych punktów płaskich x i y, wykonaj następujące działania:\n",
    "+ **Zad.01** Połącz listy danych punktów x,y w tablicę (ndarray) o nazwie **dane**, zawierającą tyle wierszy ile  jest punktów w listach x,y oraz 3 kolumny, gdzie:\n",
    "    + kolumna 1 to numer punktu (1,2,3,...200) - wygeneruj samodzielnie tę numeracje\n",
    "    + kolumna 2 zawiera współrzędne x\n",
    "    + kolumna 3 zawiera współrzedne y\n",
    "\n",
    " \n",
    "+ **Zad.02** Wyznacz współrzędne x, y, będące średnią arytmetyczną danych współrzędnych x, y. Zbuduj kwadrat o środku w tym punkcie i o boku długości 10. w Zad.04 narysuj ten kwadrat (boki oraz wierzchołki) oraz przypisz mu etykietę label = 'kwadrat'\n",
    "\n",
    "\n",
    "+ **Zad.03** Znajdź punkty, które znajdują się wewnątrz kwadratu. Wybierz te punkty i stwórz nową tablicę, gdzie w kolejnych kolumnach będą numer, x oraz y tych punktów. W osobnej tablicy zapisz pozostałe punkty. \n",
    "+ **Zad.03b** Znajdź punkty o skrajnych wartościach współrzędnej y (wartość minimalna oraz maksymalna spośród wszystkich współrzędnych y) oraz wyświetl numer oraz współrzędne tych punktów.\n",
    "\n",
    "\n",
    "+ **Zad.04** Przygotuj wykres zawierający:\n",
    "    + **dane**\n",
    "    + wierzchołki i boki kwadratu\n",
    "    + pokoloruj punkty wewnątrz i na zewnątrz kwadratu\n",
    "    + przypisz etykiety kolejnym seriom danym (np. label = 'punkty wewnątrz kwadratu') i wyświetl legendę\n",
    "    \n",
    "    Zadbaj o aspekty wizualne i czytelność swojego wykresu"
   ]
  },
  {
   "cell_type": "code",
   "execution_count": 204,
   "id": "24a63e02",
   "metadata": {},
   "outputs": [],
   "source": [
    "import numpy as np\n",
    "from numpy.linalg import inv\n",
    "from math import pi, sin, cos, sqrt, exp\n",
    "from pylab import randn\n",
    "import matplotlib.pyplot as plt\n",
    "import matplotlib as mpl\n",
    "mpl.rcParams['lines.linewidth'] = 1\n",
    "mpl.rcParams['lines.linestyle'] = '-.'\n",
    "mpl.rcParams['xtick.labelsize'] = 11\n",
    "mpl.rcParams['ytick.labelsize'] = 11\n",
    "mpl.rcParams['axes.titlesize'] = 11\n",
    "mpl.rcParams['axes.labelsize'] = 11\n",
    "mpl.rcParams['axes.grid'] = True\n",
    "mpl.rcParams['lines.markersize'] ** 2. # marker size in scatter\n",
    "\n",
    "# Dane punkty x,y\n",
    "n = 200\n",
    "x = 4 * randn(n) + 15\n",
    "y = 2 * randn(n) + 10"
   ]
  },
  {
   "cell_type": "markdown",
   "id": "ec4fbdf3",
   "metadata": {},
   "source": [
    "**Zad.01**"
   ]
  },
  {
   "cell_type": "code",
   "execution_count": 205,
   "id": "67f6d997",
   "metadata": {},
   "outputs": [
    {
     "name": "stdout",
     "output_type": "stream",
     "text": [
      "wymiary tablicy (w, k): (200, 3)\n",
      "tablica :\n",
      " [[  1.          15.66504556  11.21678364]\n",
      " [  2.          15.4751425   12.92211175]\n",
      " [  3.          18.73303155   6.88298912]\n",
      " [  4.          17.46130057   6.98010895]\n",
      " [  5.          11.38309336   9.26662715]\n",
      " [  6.           9.18251542  12.16603691]\n",
      " [  7.          11.96703694  10.48206279]\n",
      " [  8.           4.61454834  11.353038  ]\n",
      " [  9.          12.44616379   7.04629257]\n",
      " [ 10.          14.47449316  12.07824892]\n",
      " [ 11.          17.28608852   6.33236393]\n",
      " [ 12.          21.66824807   6.62315648]\n",
      " [ 13.           8.6457433   11.13859212]\n",
      " [ 14.          15.10631042   7.09431919]\n",
      " [ 15.          13.98749421  13.39191388]\n",
      " [ 16.          11.14835404  10.80207474]\n",
      " [ 17.          16.30214174  10.89789897]\n",
      " [ 18.           7.73967652  10.89743716]\n",
      " [ 19.          13.50297036   9.55148962]\n",
      " [ 20.          18.67791475   7.45412585]\n",
      " [ 21.           8.33342172   9.64270921]\n",
      " [ 22.          18.49579732   8.74668977]\n",
      " [ 23.          19.98234542  10.51060128]\n",
      " [ 24.          14.7356556   13.66486898]\n",
      " [ 25.          15.96450733  10.80266076]\n",
      " [ 26.          12.37840875  11.74645248]\n",
      " [ 27.          20.09488334   7.81666949]\n",
      " [ 28.          15.90676248  11.70944443]\n",
      " [ 29.          13.64951534  11.47620386]\n",
      " [ 30.          15.03167351  12.50237303]\n",
      " [ 31.          18.6796314    9.92416083]\n",
      " [ 32.          17.35062514  14.59708192]\n",
      " [ 33.          15.3905454   10.88362151]\n",
      " [ 34.          18.21159446  10.68514413]\n",
      " [ 35.           8.51063036   9.93633444]\n",
      " [ 36.          15.51229946   8.9313676 ]\n",
      " [ 37.          10.93765899   7.31787184]\n",
      " [ 38.          14.26580916   9.94042105]\n",
      " [ 39.          13.29741176  11.26007935]\n",
      " [ 40.          11.31792521   8.80414699]\n",
      " [ 41.           8.94894007  10.07981779]\n",
      " [ 42.          15.99548162  11.82159201]\n",
      " [ 43.          22.57069874  10.2926102 ]\n",
      " [ 44.          13.11031043   9.90562459]\n",
      " [ 45.          15.05803213   8.40486341]\n",
      " [ 46.          14.60163799  12.26165434]\n",
      " [ 47.          14.63395891   9.68453916]\n",
      " [ 48.          16.55797171   8.99196844]\n",
      " [ 49.          13.88098825  10.97690394]\n",
      " [ 50.          16.50225999  13.38644307]\n",
      " [ 51.          16.69478012   8.67776869]\n",
      " [ 52.          19.07666758   7.30378192]\n",
      " [ 53.          18.79080808  10.50737111]\n",
      " [ 54.          21.62015471  10.2857111 ]\n",
      " [ 55.          12.53940856   9.77618807]\n",
      " [ 56.           9.06932664   9.99275313]\n",
      " [ 57.          16.30224985   8.47415852]\n",
      " [ 58.          20.62748807   8.14564207]\n",
      " [ 59.          12.03389612   6.11120704]\n",
      " [ 60.          23.08063849   9.7350567 ]\n",
      " [ 61.          14.0944533    7.86984276]\n",
      " [ 62.          14.08441961  10.29266804]\n",
      " [ 63.          13.66860422  16.09812071]\n",
      " [ 64.          12.47314113  10.24008213]\n",
      " [ 65.          15.23706662  10.28970761]\n",
      " [ 66.          12.62449594   9.17911031]\n",
      " [ 67.          13.62592026   7.56803754]\n",
      " [ 68.          15.88746229  10.95889639]\n",
      " [ 69.          14.48783756   8.7970425 ]\n",
      " [ 70.          11.70069638   9.12196802]\n",
      " [ 71.          12.79789757  11.29790969]\n",
      " [ 72.          19.32908322   7.63815026]\n",
      " [ 73.          22.11383801  10.96568215]\n",
      " [ 74.          19.34336214   8.78314481]\n",
      " [ 75.           7.77755569  10.8333604 ]\n",
      " [ 76.          13.00247951   7.74826495]\n",
      " [ 77.          15.03386448   9.22025088]\n",
      " [ 78.          20.19979616   9.93484667]\n",
      " [ 79.           5.39552461   8.84374055]\n",
      " [ 80.          14.14802058  10.88203735]\n",
      " [ 81.          16.72781725   9.31230549]\n",
      " [ 82.          12.06829323  11.28235422]\n",
      " [ 83.           7.69694465   9.07211058]\n",
      " [ 84.          15.90276215  10.30222098]\n",
      " [ 85.          15.53079363   9.98605853]\n",
      " [ 86.          18.07165554  11.16282426]\n",
      " [ 87.          15.32471649   9.18031375]\n",
      " [ 88.           9.69691444   9.445874  ]\n",
      " [ 89.          11.23691863   8.58951649]\n",
      " [ 90.           9.33159044  10.49849262]\n",
      " [ 91.          17.26260615   9.77596589]\n",
      " [ 92.          15.85387275   7.33057808]\n",
      " [ 93.           7.66302827   8.97876936]\n",
      " [ 94.          10.77225432  13.02639193]\n",
      " [ 95.          18.23103571  10.74917758]\n",
      " [ 96.          16.41954918  12.97057303]\n",
      " [ 97.          19.80566758   8.13393423]\n",
      " [ 98.           9.67823464   8.70025058]\n",
      " [ 99.          12.57406468   8.54999744]\n",
      " [100.          14.67253129   9.43407815]\n",
      " [101.          15.42839937   8.71051521]\n",
      " [102.          16.00594711  11.47608168]\n",
      " [103.           3.65751287   7.71812369]\n",
      " [104.          13.3605471   10.15802453]\n",
      " [105.          21.72920733   8.2133563 ]\n",
      " [106.          16.89958082   6.38084014]\n",
      " [107.          19.29449853  12.0590321 ]\n",
      " [108.          24.16607041   6.00857863]\n",
      " [109.          16.42749735   9.2502668 ]\n",
      " [110.          12.72363621  10.10556631]\n",
      " [111.          16.60275844   5.40222926]\n",
      " [112.          16.15367799   6.39886881]\n",
      " [113.          11.75506713   9.18749202]\n",
      " [114.          17.2499836   14.52023972]\n",
      " [115.          12.62179977   8.40619183]\n",
      " [116.          19.44704259   8.9193277 ]\n",
      " [117.          19.50907173  13.04714721]\n",
      " [118.          19.77462771  13.48456931]\n",
      " [119.          16.62165664  14.18699773]\n",
      " [120.          13.56009912  12.3807753 ]\n",
      " [121.          13.51192994  10.79514824]\n",
      " [122.          15.17693754   9.51666643]\n",
      " [123.          13.65280487   8.3643961 ]\n",
      " [124.          11.36315136   9.74041994]\n",
      " [125.          18.00174312  10.55852983]\n",
      " [126.          11.46233091  12.34050821]\n",
      " [127.          13.05343602  13.31437071]\n",
      " [128.           9.77523289  11.88141426]\n",
      " [129.          17.40175041   6.88056871]\n",
      " [130.          14.4669341    9.5899646 ]\n",
      " [131.          12.03781545   8.93949653]\n",
      " [132.          13.91211506  12.22782409]\n",
      " [133.          14.31274117  10.25428069]\n",
      " [134.          14.13127434   7.21510641]\n",
      " [135.          10.04438769  10.98895085]\n",
      " [136.          12.80475482   7.45016665]\n",
      " [137.          12.63975913   9.49146175]\n",
      " [138.          23.06310831   9.39116673]\n",
      " [139.          20.41885211   8.12765961]\n",
      " [140.          14.45772849   7.75458892]\n",
      " [141.          10.69350511   6.47124749]\n",
      " [142.          19.12211742  13.83688674]\n",
      " [143.          15.13705576   7.28345696]\n",
      " [144.          18.23809384   9.37761432]\n",
      " [145.          20.36658112   8.01297718]\n",
      " [146.          18.37087423   7.00214782]\n",
      " [147.           5.66105247   9.87164432]\n",
      " [148.          20.72402969  13.021906  ]\n",
      " [149.          17.45383363   6.85198806]\n",
      " [150.          13.26029438   7.20132844]\n",
      " [151.           5.68162729   9.33673988]\n",
      " [152.          13.74276115   7.54988921]\n",
      " [153.          12.56603234   7.98210118]\n",
      " [154.          11.89182793   9.25066155]\n",
      " [155.          20.07466469  10.87552242]\n",
      " [156.          12.52515019  14.22758232]\n",
      " [157.          17.68887123  10.70857295]\n",
      " [158.          13.10237268  13.33544032]\n",
      " [159.          16.79624946   7.90329625]\n",
      " [160.          16.25559149  10.24958495]\n",
      " [161.          11.56208773  10.36317455]\n",
      " [162.          14.89584603   9.2904348 ]\n",
      " [163.           7.34973705   9.19693415]\n",
      " [164.          11.60028989  11.53452959]\n",
      " [165.          15.77265793  10.90959639]\n",
      " [166.          18.42614938   7.72280413]\n",
      " [167.          22.35025863  11.01200566]\n",
      " [168.          21.00081088   7.82883459]\n",
      " [169.          11.65356379   6.72628886]\n",
      " [170.          14.02553461  11.88512581]\n",
      " [171.          21.17728902   7.75461906]\n",
      " [172.           6.56063416  12.01283301]\n",
      " [173.          14.00786174   7.57722606]\n",
      " [174.          18.40041452   7.8069818 ]\n",
      " [175.          15.27567538  12.28621327]\n",
      " [176.          25.56062588  11.88521385]\n",
      " [177.          11.747378     7.95051325]\n",
      " [178.          10.87612037  11.66424895]\n",
      " [179.           3.65442656   9.44479701]\n",
      " [180.          14.70727363   8.65927516]\n",
      " [181.          13.52718547  12.5805721 ]\n",
      " [182.          22.27617483   8.20167605]\n",
      " [183.          17.25590968   8.03374221]\n",
      " [184.          18.35753006  11.09834822]\n",
      " [185.          16.95976917  11.40226992]\n",
      " [186.          12.32513131   9.58799801]\n",
      " [187.          14.17599348  12.19280039]\n",
      " [188.          13.91026674  11.52329403]\n",
      " [189.          12.46510251   9.7801469 ]\n",
      " [190.          16.04041937   9.40955616]\n",
      " [191.          19.13563194  11.22856117]\n",
      " [192.          12.18054468  11.60724801]\n",
      " [193.          17.38012522   9.59899219]\n",
      " [194.          18.59017339  12.47156669]\n",
      " [195.          17.41394299   9.40632617]\n",
      " [196.          10.09232744   9.38084091]\n",
      " [197.          20.21196072   9.35088242]\n",
      " [198.          21.01661256  12.67147265]\n",
      " [199.          17.15889646  11.17041103]\n",
      " [200.           7.54624127  11.50679289]]\n"
     ]
    }
   ],
   "source": [
    "# Zad1. Złożenie tablicy\n",
    "nr = np.arange(1, n+1)\n",
    "data =  np.column_stack((nr.T, np.array(x).T, np.array(y).T)) \n",
    "print('wymiary tablicy (w, k):', np.shape(data))\n",
    "print('tablica :\\n', data)"
   ]
  },
  {
   "cell_type": "markdown",
   "id": "5f519ee3",
   "metadata": {},
   "source": [
    "**Zad.02**"
   ]
  },
  {
   "cell_type": "code",
   "execution_count": 206,
   "id": "07184bc8",
   "metadata": {},
   "outputs": [
    {
     "name": "stdout",
     "output_type": "stream",
     "text": [
      "wierzchołki: xy1 (lewy dolny róg) - system:\n",
      " [[ 9.86705757  4.90119765]\n",
      " [ 9.86705757 14.90119765]\n",
      " [19.86705757 14.90119765]\n",
      " [19.86705757  4.90119765]]\n"
     ]
    }
   ],
   "source": [
    "# Zad2.\n",
    "# Policzenie średnich wartości x, y, będących środkiem kwadratu:\n",
    "x0 = np.mean(x)\n",
    "y0 = np.mean(y)\n",
    "\n",
    "# Wyznaczenie środka kwadratu kwaddratu o długości boku 10: \n",
    "# xy1 (lewy dolny róg) - system prawoskrętny - zgodnie z ruchem wskazówek zegara\n",
    "a = 5\n",
    "xy1 = [x0-a,y0-a] \n",
    "xy2 = [x0-a,y0+a]\n",
    "xy3 = [x0+a,y0+a]\n",
    "xy4 = [x0+a,y0-a]\n",
    "pts_kwadrat = np.array([xy1, xy2, xy3, xy4])\n",
    "print('wierzchołki: xy1 (lewy dolny róg) - system:\\n', pts_kwadrat)"
   ]
  },
  {
   "cell_type": "code",
   "execution_count": 207,
   "id": "00420033",
   "metadata": {},
   "outputs": [
    {
     "name": "stdout",
     "output_type": "stream",
     "text": [
      "Pkt 1 [9.86705757 4.90119765]\n",
      "Pkt 2 [ 9.86705757 14.90119765]\n",
      "Pkt 3 [19.86705757 14.90119765]\n",
      "Pkt 4 [19.86705757  4.90119765]\n"
     ]
    },
    {
     "data": {
      "image/png": "[encoded data removed]",
      "text/plain": [
       "<Figure size 566.929x453.543 with 1 Axes>"
      ]
     },
     "metadata": {
      "needs_background": "light"
     },
     "output_type": "display_data"
    }
   ],
   "source": [
    "# Pomocniczo: narysowanie kwadratu z wyznaczonych współrzednych\n",
    "xx = 20/2.54; yy = 16/2.54\n",
    "fig, ax =  plt.subplots(nrows=1, ncols=1, figsize=(xx, yy))\n",
    "\n",
    "ax.scatter(data[:,1], data[:,2], marker = '.', color = 'blue', label ='dane') \n",
    "ax.plot(x0, y0, marker = 'o', markersize =12, color = 'red', label ='środek') \n",
    "\n",
    "pts_kwadrat0 = np.array([xy1, xy2, xy3, xy4, xy1]) # dodanie pierwszego punktu na końcu tablicy aby domknać kwadrat na rysunku\n",
    "ax.plot(pts_kwadrat0[:,0],  pts_kwadrat0[:,1], marker ='s',  markersize =12, color ='red', label = \"wierzchołki kwadratu\")\n",
    "# opis wierzchołków\n",
    "n = 1\n",
    "for p in pts_kwadrat:\n",
    "    name = f'Pkt {n}'\n",
    "    print(name,  p)\n",
    "    plt.text(p[0] + 0.8, p[1] + 0.8,  name, fontsize=12, bbox=dict(facecolor='red', alpha=0.5))\n",
    "    n+=1\n",
    "ax.set_xlim(0, 30)\n",
    "ax.set_ylim(0, 20)\n",
    "ax.legend(loc='lower left')\n",
    "plt.show()"
   ]
  },
  {
   "cell_type": "markdown",
   "id": "2ab63856",
   "metadata": {},
   "source": [
    "**Zad.03**\n",
    "Podział tablicy  - przyjęto że punkty na krawedzi znajdują się w obszarze kwadratu\n",
    "+ Warunek na punkty w środku kwadratu, punkty wewnątrz kwadratu powinny mieć współrzędne\n",
    "  + Pkt1(x) <= x <= Pkt4(x)  and Pkt1(y) <= y <= Pkt2(y)"
   ]
  },
  {
   "cell_type": "code",
   "execution_count": 208,
   "id": "a5e3f971",
   "metadata": {},
   "outputs": [],
   "source": [
    "# Zad3 - sposób A\n",
    "# Klasyczna pętla z warunkiem\n",
    "rows_inside = [] #pusta lista do zbierania wierszy wewnatrz obszaru kwadratu\n",
    "rows_outside =[] #pusta lista do zbierania wierszy poza obszarem kwadratu\n",
    "for rows in data:\n",
    "    if (rows[1] >= pts_kwadrat[0,0] and rows[1] <= pts_kwadrat[3,0]  and \n",
    "        rows[2] >= pts_kwadrat[0,1] and rows[2] <= pts_kwadrat[1,1] ):\n",
    "        rows_inside.append(rows)\n",
    "    else:\n",
    "        rows_outside.append(rows)\n",
    "        \n",
    "# konwersja list której elementami sa wiersze tablicy do tablicy numpy\n",
    "inside = np.array(rows_inside)\n",
    "outside = np.array(rows_outside)"
   ]
  },
  {
   "cell_type": "code",
   "execution_count": 209,
   "id": "6552af31",
   "metadata": {},
   "outputs": [],
   "source": [
    "# Zad3 - sposób A\n",
    "# Metody numpy wykorzystujace mechanizm broadcasting i warunki logiczne \n",
    "d1 = data.copy()\n",
    "\n",
    "inside = d1[np.where( (d1[:,1] >= pts_kwadrat[0,0])\n",
    "                    & (d1[:,1] <= pts_kwadrat[3,0])\n",
    "                    & (d1[:,2] >= pts_kwadrat[0,1]) \n",
    "                    & (d1[:,2] <= pts_kwadrat[1,1]))]\n",
    "\n",
    "outside =d1[np.where( (d1[:,1] < pts_kwadrat[0,0]) \n",
    "                    | (d1[:,1] > pts_kwadrat[3,0]) \n",
    "                    | (d1[:,2] < pts_kwadrat[0,1]) \n",
    "                    | (d1[:,2] > pts_kwadrat[1,1]))]"
   ]
  },
  {
   "cell_type": "markdown",
   "id": "316300d0",
   "metadata": {},
   "source": [
    "**Zad.03b** - wartości skrajne"
   ]
  },
  {
   "cell_type": "code",
   "execution_count": 210,
   "id": "c0faa807",
   "metadata": {},
   "outputs": [
    {
     "name": "stdout",
     "output_type": "stream",
     "text": [
      "Numer punktu o min. wartości y to 111, jego współ. x=16.6028 y=5.4022\n",
      "Numer punktu o max. wartości y to 63, jego współ. x=13.6686 y=16.0981\n"
     ]
    }
   ],
   "source": [
    "# Zad3b - to zadanie pewnie dało się rozwiązać na wiele sposobów chociazby z użyciem klasycznej petli\n",
    "\n",
    "row_y_min = 0 \n",
    "row_y_max = 0\n",
    "for rows in data:\n",
    "    if rows[2] == data[:, 2].min():\n",
    "        row_y_min = rows\n",
    "    elif rows[2] == data[:, 2].max():\n",
    "        row_y_max = rows\n",
    "\n",
    "print(f'Numer punktu o min. wartości y to {row_y_min[0]:.0f}, jego współ. x={row_y_min[1]:.4f} y={row_y_min[2]:.4f}') \n",
    "print(f'Numer punktu o max. wartości y to {row_y_max[0]:.0f}, jego współ. x={row_y_max[1]:.4f} y={row_y_max[2]:.4f}') \n"
   ]
  },
  {
   "cell_type": "markdown",
   "id": "981d9911",
   "metadata": {},
   "source": [
    "**Zad.04**"
   ]
  },
  {
   "cell_type": "code",
   "execution_count": 211,
   "id": "a2d7f080",
   "metadata": {},
   "outputs": [
    {
     "data": {
      "image/png": "[encoded data removed]",
      "text/plain": [
       "<Figure size 566.929x453.543 with 1 Axes>"
      ]
     },
     "metadata": {
      "needs_background": "light"
     },
     "output_type": "display_data"
    }
   ],
   "source": [
    "# Zad 4 - Rysunek \n",
    "xx = 20/2.54; yy = 16/2.54\n",
    "fig, ax =  plt.subplots(nrows=1, ncols=1, figsize=(xx, yy))\n",
    "\n",
    "ax.scatter(data[:,1], data[:,2], marker = '.', color = 'blue', label ='dane') \n",
    "ax.scatter(inside[:,1], inside[:,2], marker = 'o', color = 'green', label ='inside') \n",
    "ax.scatter(outside[:,1], outside[:,2], marker = 'x', color = 'red', label ='outside') \n",
    "\n",
    "pts_kwadrat0 = np.array([xy1, xy2, xy3, xy4, xy1]) # dodanie pierwszego punktu na końcu tablicy aby domknać kwadrat na rysunku\n",
    "ax.plot(pts_kwadrat0[:,0],  pts_kwadrat0[:,1], marker ='s',  markersize =12, color ='red', label = \"wierzchołki kwadratu\") \n",
    "\n",
    "ax.set_xlim(0, 30)\n",
    "ax.set_ylim(0, 20)\n",
    "ax.legend(loc='lower left')\n",
    "plt.show()"
   ]
  },
  {
   "cell_type": "code",
   "execution_count": null,
   "id": "6015eed3",
   "metadata": {},
   "outputs": [],
   "source": []
  }
 ],
 "metadata": {
  "kernelspec": {
   "display_name": "Python 3",
   "language": "python",
   "name": "python3"
  },
  "language_info": {
   "codemirror_mode": {
    "name": "ipython",
    "version": 3
   },
   "file_extension": ".py",
   "mimetype": "text/x-python",
   "name": "python",
   "nbconvert_exporter": "python",
   "pygments_lexer": "ipython3",
   "version": "3.8.8"
  }
 },
 "nbformat": 4,
 "nbformat_minor": 5
}
